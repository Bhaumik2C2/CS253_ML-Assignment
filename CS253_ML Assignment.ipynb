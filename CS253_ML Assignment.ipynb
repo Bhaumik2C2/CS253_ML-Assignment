{
 "cells": [
  {
   "cell_type": "code",
   "execution_count": 65,
   "id": "fed5cab4-d02f-41b4-aca7-d179affac19a",
   "metadata": {},
   "outputs": [
    {
     "name": "stderr",
     "output_type": "stream",
     "text": [
      "C:\\Users\\Admin\\AppData\\Local\\Temp\\ipykernel_11732\\3613665941.py:25: FutureWarning: A value is trying to be set on a copy of a DataFrame or Series through chained assignment using an inplace method.\n",
      "The behavior will change in pandas 3.0. This inplace method will never work because the intermediate object on which we are setting values always behaves as a copy.\n",
      "\n",
      "For example, when doing 'df[col].method(value, inplace=True)', try using 'df.method({col: value}, inplace=True)' or df[col] = df[col].method(value) instead, to perform the operation inplace on the original object.\n",
      "\n",
      "\n",
      "  feature_matrix_train['Liabilities'].fillna(0, inplace=True)\n",
      "C:\\Users\\Admin\\AppData\\Local\\Temp\\ipykernel_11732\\3613665941.py:29: FutureWarning: A value is trying to be set on a copy of a DataFrame or Series through chained assignment using an inplace method.\n",
      "The behavior will change in pandas 3.0. This inplace method will never work because the intermediate object on which we are setting values always behaves as a copy.\n",
      "\n",
      "For example, when doing 'df[col].method(value, inplace=True)', try using 'df.method({col: value}, inplace=True)' or df[col] = df[col].method(value) instead, to perform the operation inplace on the original object.\n",
      "\n",
      "\n",
      "  feature_matrix_test['Liabilities'].fillna(0, inplace=True)\n"
     ]
    }
   ],
   "source": [
    "import pandas as pd\n",
    "from sklearn.preprocessing import LabelEncoder\n",
    "\n",
    "# Read data\n",
    "training_data = pd.read_csv('train.csv')\n",
    "feature_matrix_train = training_data.iloc[0:2059, 3:8]\n",
    "target_values_train = training_data.iloc[0:2059, 8]\n",
    "testing_data = pd.read_csv('test.csv')\n",
    "feature_matrix_test = testing_data.iloc[0:2059, 3:8]\n",
    "\n",
    "def numeric_converter(value):\n",
    "    if isinstance(value, float):\n",
    "        return value\n",
    "    elif value == '0':\n",
    "        return 0.0\n",
    "    elif 'Crore' in value:\n",
    "        return float(value.replace(' Crore+', '')) * 10**7\n",
    "    elif 'Lac' in value:\n",
    "        return float(value.replace(' Lac+', '')) * 10**5\n",
    "    elif 'Thou' in value:\n",
    "        return float(value.replace(' Thou+', '')) * 10**3\n",
    "\n",
    "feature_matrix_train['Total Assets'] = feature_matrix_train['Total Assets'].apply(numeric_converter)\n",
    "feature_matrix_train['Liabilities'] = feature_matrix_train['Liabilities'].apply(numeric_converter)\n",
    "feature_matrix_train['Liabilities'].fillna(0, inplace=True)\n",
    "\n",
    "feature_matrix_test['Total Assets'] = feature_matrix_test['Total Assets'].apply(numeric_converter)\n",
    "feature_matrix_test['Liabilities'] = feature_matrix_test['Liabilities'].apply(numeric_converter)\n",
    "feature_matrix_test['Liabilities'].fillna(0, inplace=True)\n",
    "\n",
    "label_encoder = LabelEncoder()\n",
    "feature_matrix_train['Party'] = label_encoder.fit_transform(feature_matrix_train['Party'])\n",
    "feature_matrix_test['Party'] = label_encoder.transform(feature_matrix_test['Party'])\n",
    "\n",
    "label_encoder = LabelEncoder()\n",
    "feature_matrix_train['state'] = label_encoder.fit_transform(feature_matrix_train['state'])\n",
    "feature_matrix_test['state'] = label_encoder.transform(feature_matrix_test['state'])\n",
    "\n",
    "from sklearn.preprocessing import RobustScaler\n",
    "\n",
    "robust_scaler = RobustScaler()\n",
    "feature_matrix_train[['Total Assets', 'Liabilities']] = robust_scaler.fit_transform(feature_matrix_train[['Total Assets', 'Liabilities']])\n",
    "feature_matrix_test[['Total Assets', 'Liabilities']] = robust_scaler.transform(feature_matrix_test[['Total Assets', 'Liabilities']])\n",
    "\n",
    "from sklearn.tree import DecisionTreeClassifier\n",
    "from sklearn.metrics import accuracy_score\n",
    "\n",
    "decision_tree_model = DecisionTreeClassifier(random_state=42)\n",
    "decision_tree_model.fit(feature_matrix_train, target_values_train)\n",
    "predictions = decision_tree_model.predict(feature_matrix_test)\n",
    "\n",
    "prediction_df = pd.DataFrame({'ID': testing_data['ID'], 'Education': predictions}, columns=['ID', 'Education'])\n",
    "prediction_df.to_csv('C:/Users/Admin/CS253 Assignment/SampleSub2.csv', index=False)"
   ]
  },
  {
   "cell_type": "code",
   "execution_count": null,
   "id": "20cd6570-07b1-45fd-a99d-b574fa9027b8",
   "metadata": {},
   "outputs": [],
   "source": []
  },
  {
   "cell_type": "code",
   "execution_count": null,
   "id": "7a1fce36-1fc6-48e4-9956-cfa871afe5f4",
   "metadata": {},
   "outputs": [],
   "source": []
  },
  {
   "cell_type": "code",
   "execution_count": null,
   "id": "90836012-2910-40be-9a83-13671d4cc276",
   "metadata": {},
   "outputs": [],
   "source": []
  },
  {
   "cell_type": "code",
   "execution_count": null,
   "id": "04408b4e-66c1-4e77-b3c1-d74ebc719926",
   "metadata": {},
   "outputs": [],
   "source": []
  }
 ],
 "metadata": {
  "kernelspec": {
   "display_name": "Python 3 (ipykernel)",
   "language": "python",
   "name": "python3"
  },
  "language_info": {
   "codemirror_mode": {
    "name": "ipython",
    "version": 3
   },
   "file_extension": ".py",
   "mimetype": "text/x-python",
   "name": "python",
   "nbconvert_exporter": "python",
   "pygments_lexer": "ipython3",
   "version": "3.12.2"
  }
 },
 "nbformat": 4,
 "nbformat_minor": 5
}
